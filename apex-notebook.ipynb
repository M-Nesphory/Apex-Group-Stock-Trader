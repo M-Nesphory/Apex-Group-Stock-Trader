{
 "cells": [
  {
   "cell_type": "markdown",
   "id": "c586e24b",
   "metadata": {},
   "source": [
    "## FORECASTING AFRICAN STOCK MARKETS USING PREDICTIVE ANALYSIS\n",
    "\n",
    "## 1. Business Understanding\n",
    "\n",
    "#### 1.1 Project Objective\n",
    "Build a model that identifies highly correlated stocks and tracks their performance over time. Integrate NLP-based market intelligence to generate predictive insights that help investors understand market sentiment and anticipate trends.\n",
    "\n",
    "#### 1.2 Problem Statement\n",
    "Predictive stock models are common in Western markets, where investors rely on data-driven tools to track correlations and forecast market behavior. African markets lag behind in this area. Many investors lack tools that reveal correlated trends and complex relationships between local stocks. They need a model that combines quantitative market data with qualitative insights from financial news to make informed investment decisions.\n",
    "\n",
    "#### 1.3 Technical Approach\n",
    "We will primarily use **time series analysis** to track stock values and identify performance patterns.  \n",
    "We will apply **NLP techniques** to process financial news and market reports for **sentiment analysis**, capturing public and media sentiment toward specific stocks or sectors.  \n",
    "Finally, we will use **statistical correlation methods** to cluster stocks that move together, revealing interdependencies and co-movement trends.\n",
    "\n",
    "**Input:** Historical stock price data and financial news text  \n",
    "**Output:** A set of correlated stock clusters and predictive trend insights\n",
    "\n",
    "#### 1.4 Key Challenge\n",
    "**Sparse Market Data:** Many African stocks lack consistent reporting and media coverage, which limits available market intelligence and can reduce model accuracy. The system must handle incomplete data without losing predictive power.\n",
    "\n",
    "#### 1.5 Success Metrics\n",
    "We will evaluate the model using:\n",
    "- **Prediction Accuracy:** 75% (target)  \n",
    "- **Correlation Strength (R²):** Measure of how closely identified clusters move together  \n",
    "- **Sentiment-Performance Alignment:** How well market sentiment predicts price movements  \n",
    "- **Coverage:** Proportion of stocks included in meaningful clusters  \n",
    "\n",
    "#### 1.6 Expected Outcomes\n",
    "The project will deliver a **predictive analytics tool for African markets** that highlights correlated stocks and emerging trends. It will provide insights into **unique stock relationships** across sectors and regions.  \n",
    "The model will remain **interpretable**, not a black box—every prediction will include justification based on underlying data and sentiment indicators."
   ]
  },
  {
   "cell_type": "code",
   "execution_count": null,
   "id": "d32317dc",
   "metadata": {},
   "outputs": [],
   "source": []
  },
  {
   "cell_type": "markdown",
   "id": "cad66065",
   "metadata": {},
   "source": [
    "## 2. Data Understanding"
   ]
  },
  {
   "cell_type": "code",
   "execution_count": 63,
   "id": "889694a7",
   "metadata": {},
   "outputs": [
    {
     "name": "stdout",
     "output_type": "stream",
     "text": [
      "Requirement already satisfied: yfinance in c:\\users\\user\\appdata\\local\\packages\\pythonsoftwarefoundation.python.3.11_qbz5n2kfra8p0\\localcache\\local-packages\\python311\\site-packages (0.2.66)\n",
      "Requirement already satisfied: pandas>=1.3.0 in c:\\users\\user\\appdata\\local\\packages\\pythonsoftwarefoundation.python.3.11_qbz5n2kfra8p0\\localcache\\local-packages\\python311\\site-packages (from yfinance) (2.3.2)\n",
      "Requirement already satisfied: numpy>=1.16.5 in c:\\users\\user\\appdata\\local\\packages\\pythonsoftwarefoundation.python.3.11_qbz5n2kfra8p0\\localcache\\local-packages\\python311\\site-packages (from yfinance) (2.3.3)\n",
      "Requirement already satisfied: requests>=2.31 in c:\\users\\user\\appdata\\local\\packages\\pythonsoftwarefoundation.python.3.11_qbz5n2kfra8p0\\localcache\\local-packages\\python311\\site-packages (from yfinance) (2.32.5)\n",
      "Requirement already satisfied: multitasking>=0.0.7 in c:\\users\\user\\appdata\\local\\packages\\pythonsoftwarefoundation.python.3.11_qbz5n2kfra8p0\\localcache\\local-packages\\python311\\site-packages (from yfinance) (0.0.12)\n",
      "Requirement already satisfied: platformdirs>=2.0.0 in c:\\users\\user\\appdata\\local\\packages\\pythonsoftwarefoundation.python.3.11_qbz5n2kfra8p0\\localcache\\local-packages\\python311\\site-packages (from yfinance) (4.4.0)\n",
      "Requirement already satisfied: pytz>=2022.5 in c:\\users\\user\\appdata\\local\\packages\\pythonsoftwarefoundation.python.3.11_qbz5n2kfra8p0\\localcache\\local-packages\\python311\\site-packages (from yfinance) (2025.2)\n",
      "Requirement already satisfied: frozendict>=2.3.4 in c:\\users\\user\\appdata\\local\\packages\\pythonsoftwarefoundation.python.3.11_qbz5n2kfra8p0\\localcache\\local-packages\\python311\\site-packages (from yfinance) (2.4.6)\n",
      "Requirement already satisfied: peewee>=3.16.2 in c:\\users\\user\\appdata\\local\\packages\\pythonsoftwarefoundation.python.3.11_qbz5n2kfra8p0\\localcache\\local-packages\\python311\\site-packages (from yfinance) (3.18.2)\n",
      "Requirement already satisfied: beautifulsoup4>=4.11.1 in c:\\users\\user\\appdata\\local\\packages\\pythonsoftwarefoundation.python.3.11_qbz5n2kfra8p0\\localcache\\local-packages\\python311\\site-packages (from yfinance) (4.14.2)\n",
      "Requirement already satisfied: curl_cffi>=0.7 in c:\\users\\user\\appdata\\local\\packages\\pythonsoftwarefoundation.python.3.11_qbz5n2kfra8p0\\localcache\\local-packages\\python311\\site-packages (from yfinance) (0.13.0)\n",
      "Requirement already satisfied: protobuf>=3.19.0 in c:\\users\\user\\appdata\\local\\packages\\pythonsoftwarefoundation.python.3.11_qbz5n2kfra8p0\\localcache\\local-packages\\python311\\site-packages (from yfinance) (6.32.1)\n",
      "Requirement already satisfied: websockets>=13.0 in c:\\users\\user\\appdata\\local\\packages\\pythonsoftwarefoundation.python.3.11_qbz5n2kfra8p0\\localcache\\local-packages\\python311\\site-packages (from yfinance) (15.0.1)\n",
      "Requirement already satisfied: soupsieve>1.2 in c:\\users\\user\\appdata\\local\\packages\\pythonsoftwarefoundation.python.3.11_qbz5n2kfra8p0\\localcache\\local-packages\\python311\\site-packages (from beautifulsoup4>=4.11.1->yfinance) (2.8)\n",
      "Requirement already satisfied: typing-extensions>=4.0.0 in c:\\users\\user\\appdata\\local\\packages\\pythonsoftwarefoundation.python.3.11_qbz5n2kfra8p0\\localcache\\local-packages\\python311\\site-packages (from beautifulsoup4>=4.11.1->yfinance) (4.15.0)\n",
      "Requirement already satisfied: cffi>=1.12.0 in c:\\users\\user\\appdata\\local\\packages\\pythonsoftwarefoundation.python.3.11_qbz5n2kfra8p0\\localcache\\local-packages\\python311\\site-packages (from curl_cffi>=0.7->yfinance) (2.0.0)\n",
      "Requirement already satisfied: certifi>=2024.2.2 in c:\\users\\user\\appdata\\local\\packages\\pythonsoftwarefoundation.python.3.11_qbz5n2kfra8p0\\localcache\\local-packages\\python311\\site-packages (from curl_cffi>=0.7->yfinance) (2025.8.3)\n",
      "Requirement already satisfied: pycparser in c:\\users\\user\\appdata\\local\\packages\\pythonsoftwarefoundation.python.3.11_qbz5n2kfra8p0\\localcache\\local-packages\\python311\\site-packages (from cffi>=1.12.0->curl_cffi>=0.7->yfinance) (2.23)\n",
      "Requirement already satisfied: python-dateutil>=2.8.2 in c:\\users\\user\\appdata\\local\\packages\\pythonsoftwarefoundation.python.3.11_qbz5n2kfra8p0\\localcache\\local-packages\\python311\\site-packages (from pandas>=1.3.0->yfinance) (2.9.0.post0)\n",
      "Requirement already satisfied: tzdata>=2022.7 in c:\\users\\user\\appdata\\local\\packages\\pythonsoftwarefoundation.python.3.11_qbz5n2kfra8p0\\localcache\\local-packages\\python311\\site-packages (from pandas>=1.3.0->yfinance) (2025.2)\n",
      "Requirement already satisfied: six>=1.5 in c:\\users\\user\\appdata\\local\\packages\\pythonsoftwarefoundation.python.3.11_qbz5n2kfra8p0\\localcache\\local-packages\\python311\\site-packages (from python-dateutil>=2.8.2->pandas>=1.3.0->yfinance) (1.17.0)\n",
      "Requirement already satisfied: charset_normalizer<4,>=2 in c:\\users\\user\\appdata\\local\\packages\\pythonsoftwarefoundation.python.3.11_qbz5n2kfra8p0\\localcache\\local-packages\\python311\\site-packages (from requests>=2.31->yfinance) (3.4.3)\n",
      "Requirement already satisfied: idna<4,>=2.5 in c:\\users\\user\\appdata\\local\\packages\\pythonsoftwarefoundation.python.3.11_qbz5n2kfra8p0\\localcache\\local-packages\\python311\\site-packages (from requests>=2.31->yfinance) (3.10)\n",
      "Requirement already satisfied: urllib3<3,>=1.21.1 in c:\\users\\user\\appdata\\local\\packages\\pythonsoftwarefoundation.python.3.11_qbz5n2kfra8p0\\localcache\\local-packages\\python311\\site-packages (from requests>=2.31->yfinance) (2.5.0)\n"
     ]
    },
    {
     "name": "stderr",
     "output_type": "stream",
     "text": [
      "\n",
      "[notice] A new release of pip is available: 25.2 -> 25.3\n",
      "[notice] To update, run: C:\\Users\\User\\AppData\\Local\\Microsoft\\WindowsApps\\PythonSoftwareFoundation.Python.3.11_qbz5n2kfra8p0\\python.exe -m pip install --upgrade pip\n"
     ]
    },
    {
     "name": "stdout",
     "output_type": "stream",
     "text": [
      "Requirement already satisfied: statsmodels in c:\\users\\user\\appdata\\local\\packages\\pythonsoftwarefoundation.python.3.11_qbz5n2kfra8p0\\localcache\\local-packages\\python311\\site-packages (0.14.5)\n",
      "Requirement already satisfied: numpy<3,>=1.22.3 in c:\\users\\user\\appdata\\local\\packages\\pythonsoftwarefoundation.python.3.11_qbz5n2kfra8p0\\localcache\\local-packages\\python311\\site-packages (from statsmodels) (2.3.3)\n",
      "Requirement already satisfied: scipy!=1.9.2,>=1.8 in c:\\users\\user\\appdata\\local\\packages\\pythonsoftwarefoundation.python.3.11_qbz5n2kfra8p0\\localcache\\local-packages\\python311\\site-packages (from statsmodels) (1.16.2)\n",
      "Requirement already satisfied: pandas!=2.1.0,>=1.4 in c:\\users\\user\\appdata\\local\\packages\\pythonsoftwarefoundation.python.3.11_qbz5n2kfra8p0\\localcache\\local-packages\\python311\\site-packages (from statsmodels) (2.3.2)\n",
      "Requirement already satisfied: patsy>=0.5.6 in c:\\users\\user\\appdata\\local\\packages\\pythonsoftwarefoundation.python.3.11_qbz5n2kfra8p0\\localcache\\local-packages\\python311\\site-packages (from statsmodels) (1.0.2)\n",
      "Requirement already satisfied: packaging>=21.3 in c:\\users\\user\\appdata\\local\\packages\\pythonsoftwarefoundation.python.3.11_qbz5n2kfra8p0\\localcache\\local-packages\\python311\\site-packages (from statsmodels) (25.0)\n",
      "Requirement already satisfied: python-dateutil>=2.8.2 in c:\\users\\user\\appdata\\local\\packages\\pythonsoftwarefoundation.python.3.11_qbz5n2kfra8p0\\localcache\\local-packages\\python311\\site-packages (from pandas!=2.1.0,>=1.4->statsmodels) (2.9.0.post0)\n",
      "Requirement already satisfied: pytz>=2020.1 in c:\\users\\user\\appdata\\local\\packages\\pythonsoftwarefoundation.python.3.11_qbz5n2kfra8p0\\localcache\\local-packages\\python311\\site-packages (from pandas!=2.1.0,>=1.4->statsmodels) (2025.2)\n",
      "Requirement already satisfied: tzdata>=2022.7 in c:\\users\\user\\appdata\\local\\packages\\pythonsoftwarefoundation.python.3.11_qbz5n2kfra8p0\\localcache\\local-packages\\python311\\site-packages (from pandas!=2.1.0,>=1.4->statsmodels) (2025.2)\n",
      "Requirement already satisfied: six>=1.5 in c:\\users\\user\\appdata\\local\\packages\\pythonsoftwarefoundation.python.3.11_qbz5n2kfra8p0\\localcache\\local-packages\\python311\\site-packages (from python-dateutil>=2.8.2->pandas!=2.1.0,>=1.4->statsmodels) (1.17.0)\n"
     ]
    },
    {
     "name": "stderr",
     "output_type": "stream",
     "text": [
      "\n",
      "[notice] A new release of pip is available: 25.2 -> 25.3\n",
      "[notice] To update, run: C:\\Users\\User\\AppData\\Local\\Microsoft\\WindowsApps\\PythonSoftwareFoundation.Python.3.11_qbz5n2kfra8p0\\python.exe -m pip install --upgrade pip\n"
     ]
    }
   ],
   "source": [
    "!pip install yfinance\n",
    "!pip install statsmodels"
   ]
  },
  {
   "cell_type": "code",
   "execution_count": 64,
   "id": "09694765",
   "metadata": {},
   "outputs": [],
   "source": [
    "#Import required libraries\n",
    "import pandas as pd\n",
    "import numpy as np\n",
    "import matplotlib.pyplot as plt\n",
    "import seaborn as sns\n",
    "import yfinance as yf\n",
    "import statsmodels.api as sm\n",
    "from sklearn.model_selection import train_test_split\n",
    "from sklearn.linear_model import LinearRegression\n",
    "from sklearn.metrics import mean_squared_error\n",
    "#from prophet import Prophet"
   ]
  },
  {
   "cell_type": "markdown",
   "id": "cfd28b60",
   "metadata": {},
   "source": [
    "STOCK DATASET "
   ]
  },
  {
   "cell_type": "code",
   "execution_count": 65,
   "id": "6287ddee",
   "metadata": {},
   "outputs": [
    {
     "data": {
      "text/html": [
       "<div>\n",
       "<style scoped>\n",
       "    .dataframe tbody tr th:only-of-type {\n",
       "        vertical-align: middle;\n",
       "    }\n",
       "\n",
       "    .dataframe tbody tr th {\n",
       "        vertical-align: top;\n",
       "    }\n",
       "\n",
       "    .dataframe thead th {\n",
       "        text-align: right;\n",
       "    }\n",
       "</style>\n",
       "<table border=\"1\" class=\"dataframe\">\n",
       "  <thead>\n",
       "    <tr style=\"text-align: right;\">\n",
       "      <th></th>\n",
       "      <th>symbol</th>\n",
       "      <th>open</th>\n",
       "      <th>high</th>\n",
       "      <th>low</th>\n",
       "      <th>close</th>\n",
       "      <th>volume</th>\n",
       "      <th>ticker</th>\n",
       "      <th>company_name</th>\n",
       "      <th>industry</th>\n",
       "      <th>datetime</th>\n",
       "    </tr>\n",
       "  </thead>\n",
       "  <tbody>\n",
       "    <tr>\n",
       "      <th>0</th>\n",
       "      <td>NSEKE:EGAD</td>\n",
       "      <td>41.75</td>\n",
       "      <td>41.75</td>\n",
       "      <td>41.25</td>\n",
       "      <td>41.25</td>\n",
       "      <td>5500.0</td>\n",
       "      <td>EGAD</td>\n",
       "      <td>Eaagads Ltd</td>\n",
       "      <td>Agricultural</td>\n",
       "      <td>2015-02-23 09:00:00</td>\n",
       "    </tr>\n",
       "    <tr>\n",
       "      <th>1</th>\n",
       "      <td>NSEKE:EGAD</td>\n",
       "      <td>40.00</td>\n",
       "      <td>40.00</td>\n",
       "      <td>40.00</td>\n",
       "      <td>40.00</td>\n",
       "      <td>5300.0</td>\n",
       "      <td>EGAD</td>\n",
       "      <td>Eaagads Ltd</td>\n",
       "      <td>Agricultural</td>\n",
       "      <td>2015-02-24 09:00:00</td>\n",
       "    </tr>\n",
       "    <tr>\n",
       "      <th>2</th>\n",
       "      <td>NSEKE:EGAD</td>\n",
       "      <td>39.50</td>\n",
       "      <td>39.50</td>\n",
       "      <td>39.00</td>\n",
       "      <td>39.50</td>\n",
       "      <td>4700.0</td>\n",
       "      <td>EGAD</td>\n",
       "      <td>Eaagads Ltd</td>\n",
       "      <td>Agricultural</td>\n",
       "      <td>2015-02-25 09:00:00</td>\n",
       "    </tr>\n",
       "    <tr>\n",
       "      <th>3</th>\n",
       "      <td>NSEKE:EGAD</td>\n",
       "      <td>41.25</td>\n",
       "      <td>41.75</td>\n",
       "      <td>39.00</td>\n",
       "      <td>39.00</td>\n",
       "      <td>27600.0</td>\n",
       "      <td>EGAD</td>\n",
       "      <td>Eaagads Ltd</td>\n",
       "      <td>Agricultural</td>\n",
       "      <td>2015-02-26 09:00:00</td>\n",
       "    </tr>\n",
       "    <tr>\n",
       "      <th>4</th>\n",
       "      <td>NSEKE:EGAD</td>\n",
       "      <td>41.25</td>\n",
       "      <td>41.25</td>\n",
       "      <td>39.00</td>\n",
       "      <td>39.00</td>\n",
       "      <td>1900.0</td>\n",
       "      <td>EGAD</td>\n",
       "      <td>Eaagads Ltd</td>\n",
       "      <td>Agricultural</td>\n",
       "      <td>2015-03-02 09:00:00</td>\n",
       "    </tr>\n",
       "    <tr>\n",
       "      <th>...</th>\n",
       "      <td>...</td>\n",
       "      <td>...</td>\n",
       "      <td>...</td>\n",
       "      <td>...</td>\n",
       "      <td>...</td>\n",
       "      <td>...</td>\n",
       "      <td>...</td>\n",
       "      <td>...</td>\n",
       "      <td>...</td>\n",
       "      <td>...</td>\n",
       "    </tr>\n",
       "    <tr>\n",
       "      <th>71881</th>\n",
       "      <td>NSEKE:SCOM</td>\n",
       "      <td>27.85</td>\n",
       "      <td>28.50</td>\n",
       "      <td>27.00</td>\n",
       "      <td>27.90</td>\n",
       "      <td>18716618.0</td>\n",
       "      <td>SCOM</td>\n",
       "      <td>Safaricom Ltd</td>\n",
       "      <td>Telecommunication</td>\n",
       "      <td>2025-10-21 09:00:00</td>\n",
       "    </tr>\n",
       "    <tr>\n",
       "      <th>71882</th>\n",
       "      <td>NSEKE:SCOM</td>\n",
       "      <td>27.90</td>\n",
       "      <td>28.10</td>\n",
       "      <td>27.80</td>\n",
       "      <td>28.05</td>\n",
       "      <td>4260285.0</td>\n",
       "      <td>SCOM</td>\n",
       "      <td>Safaricom Ltd</td>\n",
       "      <td>Telecommunication</td>\n",
       "      <td>2025-10-22 09:00:00</td>\n",
       "    </tr>\n",
       "    <tr>\n",
       "      <th>71883</th>\n",
       "      <td>NSEKE:SCOM</td>\n",
       "      <td>28.50</td>\n",
       "      <td>28.50</td>\n",
       "      <td>27.95</td>\n",
       "      <td>28.25</td>\n",
       "      <td>8419327.0</td>\n",
       "      <td>SCOM</td>\n",
       "      <td>Safaricom Ltd</td>\n",
       "      <td>Telecommunication</td>\n",
       "      <td>2025-10-23 09:00:00</td>\n",
       "    </tr>\n",
       "    <tr>\n",
       "      <th>71884</th>\n",
       "      <td>NSEKE:SCOM</td>\n",
       "      <td>28.50</td>\n",
       "      <td>28.50</td>\n",
       "      <td>28.05</td>\n",
       "      <td>28.50</td>\n",
       "      <td>40614269.0</td>\n",
       "      <td>SCOM</td>\n",
       "      <td>Safaricom Ltd</td>\n",
       "      <td>Telecommunication</td>\n",
       "      <td>2025-10-24 09:00:00</td>\n",
       "    </tr>\n",
       "    <tr>\n",
       "      <th>71885</th>\n",
       "      <td>NSEKE:SCOM</td>\n",
       "      <td>28.25</td>\n",
       "      <td>29.00</td>\n",
       "      <td>28.20</td>\n",
       "      <td>28.80</td>\n",
       "      <td>1740579.0</td>\n",
       "      <td>SCOM</td>\n",
       "      <td>Safaricom Ltd</td>\n",
       "      <td>Telecommunication</td>\n",
       "      <td>2025-10-27 09:00:00</td>\n",
       "    </tr>\n",
       "  </tbody>\n",
       "</table>\n",
       "<p>71886 rows × 10 columns</p>\n",
       "</div>"
      ],
      "text/plain": [
       "           symbol   open   high    low  close      volume ticker  \\\n",
       "0      NSEKE:EGAD  41.75  41.75  41.25  41.25      5500.0   EGAD   \n",
       "1      NSEKE:EGAD  40.00  40.00  40.00  40.00      5300.0   EGAD   \n",
       "2      NSEKE:EGAD  39.50  39.50  39.00  39.50      4700.0   EGAD   \n",
       "3      NSEKE:EGAD  41.25  41.75  39.00  39.00     27600.0   EGAD   \n",
       "4      NSEKE:EGAD  41.25  41.25  39.00  39.00      1900.0   EGAD   \n",
       "...           ...    ...    ...    ...    ...         ...    ...   \n",
       "71881  NSEKE:SCOM  27.85  28.50  27.00  27.90  18716618.0   SCOM   \n",
       "71882  NSEKE:SCOM  27.90  28.10  27.80  28.05   4260285.0   SCOM   \n",
       "71883  NSEKE:SCOM  28.50  28.50  27.95  28.25   8419327.0   SCOM   \n",
       "71884  NSEKE:SCOM  28.50  28.50  28.05  28.50  40614269.0   SCOM   \n",
       "71885  NSEKE:SCOM  28.25  29.00  28.20  28.80   1740579.0   SCOM   \n",
       "\n",
       "        company_name           industry             datetime  \n",
       "0        Eaagads Ltd       Agricultural  2015-02-23 09:00:00  \n",
       "1        Eaagads Ltd       Agricultural  2015-02-24 09:00:00  \n",
       "2        Eaagads Ltd       Agricultural  2015-02-25 09:00:00  \n",
       "3        Eaagads Ltd       Agricultural  2015-02-26 09:00:00  \n",
       "4        Eaagads Ltd       Agricultural  2015-03-02 09:00:00  \n",
       "...              ...                ...                  ...  \n",
       "71881  Safaricom Ltd  Telecommunication  2025-10-21 09:00:00  \n",
       "71882  Safaricom Ltd  Telecommunication  2025-10-22 09:00:00  \n",
       "71883  Safaricom Ltd  Telecommunication  2025-10-23 09:00:00  \n",
       "71884  Safaricom Ltd  Telecommunication  2025-10-24 09:00:00  \n",
       "71885  Safaricom Ltd  Telecommunication  2025-10-27 09:00:00  \n",
       "\n",
       "[71886 rows x 10 columns]"
      ]
     },
     "execution_count": 65,
     "metadata": {},
     "output_type": "execute_result"
    }
   ],
   "source": [
    "import pandas as pd\n",
    "\n",
    "# Example path — update this to where your CSV is saved\n",
    "stock_df = pd.read_csv(r\"C:\\Users\\User\\Desktop\\stock_data.csv\")\n",
    "stock_df"
   ]
  },
  {
   "cell_type": "markdown",
   "id": "72633e73",
   "metadata": {},
   "source": [
    "DATASET DESCRIPTION \n",
    "\n",
    "Symbol-it is a unique identifier for each listed company on the Nairobi Stock Exchange.\n",
    "\n",
    "Open - it refers to the price at which the stock opened on that day.\n",
    "\n",
    "High - refers to the highest traded price during the day .\n",
    "\n",
    "Low - refers to the lowest traded price during the day.\n",
    "\n",
    "Close - refers to the final trading price at the clode of the market.\n",
    "\n",
    "Volume- number of shares which is  traded on the day.\n",
    "\n",
    "Ticker-it refers to the unique company identifier.\n",
    "\n",
    "Company_name- it is the official registered name of the firm listed on the nairobi stock exchange.\n",
    "\n",
    "Industry - it represents the economic category the company operates eg banking and agricultural sectors.\n",
    "\n",
    "Datetime-it is the exact trading date and time for each record.\n"
   ]
  },
  {
   "cell_type": "code",
   "execution_count": 66,
   "id": "6a47e02f",
   "metadata": {},
   "outputs": [
    {
     "name": "stdout",
     "output_type": "stream",
     "text": [
      " First 5 Rows:\n"
     ]
    },
    {
     "data": {
      "text/html": [
       "<div>\n",
       "<style scoped>\n",
       "    .dataframe tbody tr th:only-of-type {\n",
       "        vertical-align: middle;\n",
       "    }\n",
       "\n",
       "    .dataframe tbody tr th {\n",
       "        vertical-align: top;\n",
       "    }\n",
       "\n",
       "    .dataframe thead th {\n",
       "        text-align: right;\n",
       "    }\n",
       "</style>\n",
       "<table border=\"1\" class=\"dataframe\">\n",
       "  <thead>\n",
       "    <tr style=\"text-align: right;\">\n",
       "      <th></th>\n",
       "      <th>symbol</th>\n",
       "      <th>open</th>\n",
       "      <th>high</th>\n",
       "      <th>low</th>\n",
       "      <th>close</th>\n",
       "      <th>volume</th>\n",
       "      <th>ticker</th>\n",
       "      <th>company_name</th>\n",
       "      <th>industry</th>\n",
       "      <th>datetime</th>\n",
       "    </tr>\n",
       "  </thead>\n",
       "  <tbody>\n",
       "    <tr>\n",
       "      <th>0</th>\n",
       "      <td>NSEKE:EGAD</td>\n",
       "      <td>41.75</td>\n",
       "      <td>41.75</td>\n",
       "      <td>41.25</td>\n",
       "      <td>41.25</td>\n",
       "      <td>5500.0</td>\n",
       "      <td>EGAD</td>\n",
       "      <td>Eaagads Ltd</td>\n",
       "      <td>Agricultural</td>\n",
       "      <td>2015-02-23 09:00:00</td>\n",
       "    </tr>\n",
       "    <tr>\n",
       "      <th>1</th>\n",
       "      <td>NSEKE:EGAD</td>\n",
       "      <td>40.00</td>\n",
       "      <td>40.00</td>\n",
       "      <td>40.00</td>\n",
       "      <td>40.00</td>\n",
       "      <td>5300.0</td>\n",
       "      <td>EGAD</td>\n",
       "      <td>Eaagads Ltd</td>\n",
       "      <td>Agricultural</td>\n",
       "      <td>2015-02-24 09:00:00</td>\n",
       "    </tr>\n",
       "    <tr>\n",
       "      <th>2</th>\n",
       "      <td>NSEKE:EGAD</td>\n",
       "      <td>39.50</td>\n",
       "      <td>39.50</td>\n",
       "      <td>39.00</td>\n",
       "      <td>39.50</td>\n",
       "      <td>4700.0</td>\n",
       "      <td>EGAD</td>\n",
       "      <td>Eaagads Ltd</td>\n",
       "      <td>Agricultural</td>\n",
       "      <td>2015-02-25 09:00:00</td>\n",
       "    </tr>\n",
       "    <tr>\n",
       "      <th>3</th>\n",
       "      <td>NSEKE:EGAD</td>\n",
       "      <td>41.25</td>\n",
       "      <td>41.75</td>\n",
       "      <td>39.00</td>\n",
       "      <td>39.00</td>\n",
       "      <td>27600.0</td>\n",
       "      <td>EGAD</td>\n",
       "      <td>Eaagads Ltd</td>\n",
       "      <td>Agricultural</td>\n",
       "      <td>2015-02-26 09:00:00</td>\n",
       "    </tr>\n",
       "    <tr>\n",
       "      <th>4</th>\n",
       "      <td>NSEKE:EGAD</td>\n",
       "      <td>41.25</td>\n",
       "      <td>41.25</td>\n",
       "      <td>39.00</td>\n",
       "      <td>39.00</td>\n",
       "      <td>1900.0</td>\n",
       "      <td>EGAD</td>\n",
       "      <td>Eaagads Ltd</td>\n",
       "      <td>Agricultural</td>\n",
       "      <td>2015-03-02 09:00:00</td>\n",
       "    </tr>\n",
       "  </tbody>\n",
       "</table>\n",
       "</div>"
      ],
      "text/plain": [
       "       symbol   open   high    low  close   volume ticker company_name  \\\n",
       "0  NSEKE:EGAD  41.75  41.75  41.25  41.25   5500.0   EGAD  Eaagads Ltd   \n",
       "1  NSEKE:EGAD  40.00  40.00  40.00  40.00   5300.0   EGAD  Eaagads Ltd   \n",
       "2  NSEKE:EGAD  39.50  39.50  39.00  39.50   4700.0   EGAD  Eaagads Ltd   \n",
       "3  NSEKE:EGAD  41.25  41.75  39.00  39.00  27600.0   EGAD  Eaagads Ltd   \n",
       "4  NSEKE:EGAD  41.25  41.25  39.00  39.00   1900.0   EGAD  Eaagads Ltd   \n",
       "\n",
       "       industry             datetime  \n",
       "0  Agricultural  2015-02-23 09:00:00  \n",
       "1  Agricultural  2015-02-24 09:00:00  \n",
       "2  Agricultural  2015-02-25 09:00:00  \n",
       "3  Agricultural  2015-02-26 09:00:00  \n",
       "4  Agricultural  2015-03-02 09:00:00  "
      ]
     },
     "execution_count": 66,
     "metadata": {},
     "output_type": "execute_result"
    }
   ],
   "source": [
    "#Preview data\n",
    "print(\" First 5 Rows:\")\n",
    "stock_df.head()"
   ]
  },
  {
   "cell_type": "code",
   "execution_count": 67,
   "id": "3ec80884",
   "metadata": {},
   "outputs": [
    {
     "name": "stdout",
     "output_type": "stream",
     "text": [
      " Last 5 Rows:\n"
     ]
    },
    {
     "data": {
      "text/html": [
       "<div>\n",
       "<style scoped>\n",
       "    .dataframe tbody tr th:only-of-type {\n",
       "        vertical-align: middle;\n",
       "    }\n",
       "\n",
       "    .dataframe tbody tr th {\n",
       "        vertical-align: top;\n",
       "    }\n",
       "\n",
       "    .dataframe thead th {\n",
       "        text-align: right;\n",
       "    }\n",
       "</style>\n",
       "<table border=\"1\" class=\"dataframe\">\n",
       "  <thead>\n",
       "    <tr style=\"text-align: right;\">\n",
       "      <th></th>\n",
       "      <th>symbol</th>\n",
       "      <th>open</th>\n",
       "      <th>high</th>\n",
       "      <th>low</th>\n",
       "      <th>close</th>\n",
       "      <th>volume</th>\n",
       "      <th>ticker</th>\n",
       "      <th>company_name</th>\n",
       "      <th>industry</th>\n",
       "      <th>datetime</th>\n",
       "    </tr>\n",
       "  </thead>\n",
       "  <tbody>\n",
       "    <tr>\n",
       "      <th>71881</th>\n",
       "      <td>NSEKE:SCOM</td>\n",
       "      <td>27.85</td>\n",
       "      <td>28.5</td>\n",
       "      <td>27.00</td>\n",
       "      <td>27.90</td>\n",
       "      <td>18716618.0</td>\n",
       "      <td>SCOM</td>\n",
       "      <td>Safaricom Ltd</td>\n",
       "      <td>Telecommunication</td>\n",
       "      <td>2025-10-21 09:00:00</td>\n",
       "    </tr>\n",
       "    <tr>\n",
       "      <th>71882</th>\n",
       "      <td>NSEKE:SCOM</td>\n",
       "      <td>27.90</td>\n",
       "      <td>28.1</td>\n",
       "      <td>27.80</td>\n",
       "      <td>28.05</td>\n",
       "      <td>4260285.0</td>\n",
       "      <td>SCOM</td>\n",
       "      <td>Safaricom Ltd</td>\n",
       "      <td>Telecommunication</td>\n",
       "      <td>2025-10-22 09:00:00</td>\n",
       "    </tr>\n",
       "    <tr>\n",
       "      <th>71883</th>\n",
       "      <td>NSEKE:SCOM</td>\n",
       "      <td>28.50</td>\n",
       "      <td>28.5</td>\n",
       "      <td>27.95</td>\n",
       "      <td>28.25</td>\n",
       "      <td>8419327.0</td>\n",
       "      <td>SCOM</td>\n",
       "      <td>Safaricom Ltd</td>\n",
       "      <td>Telecommunication</td>\n",
       "      <td>2025-10-23 09:00:00</td>\n",
       "    </tr>\n",
       "    <tr>\n",
       "      <th>71884</th>\n",
       "      <td>NSEKE:SCOM</td>\n",
       "      <td>28.50</td>\n",
       "      <td>28.5</td>\n",
       "      <td>28.05</td>\n",
       "      <td>28.50</td>\n",
       "      <td>40614269.0</td>\n",
       "      <td>SCOM</td>\n",
       "      <td>Safaricom Ltd</td>\n",
       "      <td>Telecommunication</td>\n",
       "      <td>2025-10-24 09:00:00</td>\n",
       "    </tr>\n",
       "    <tr>\n",
       "      <th>71885</th>\n",
       "      <td>NSEKE:SCOM</td>\n",
       "      <td>28.25</td>\n",
       "      <td>29.0</td>\n",
       "      <td>28.20</td>\n",
       "      <td>28.80</td>\n",
       "      <td>1740579.0</td>\n",
       "      <td>SCOM</td>\n",
       "      <td>Safaricom Ltd</td>\n",
       "      <td>Telecommunication</td>\n",
       "      <td>2025-10-27 09:00:00</td>\n",
       "    </tr>\n",
       "  </tbody>\n",
       "</table>\n",
       "</div>"
      ],
      "text/plain": [
       "           symbol   open  high    low  close      volume ticker  \\\n",
       "71881  NSEKE:SCOM  27.85  28.5  27.00  27.90  18716618.0   SCOM   \n",
       "71882  NSEKE:SCOM  27.90  28.1  27.80  28.05   4260285.0   SCOM   \n",
       "71883  NSEKE:SCOM  28.50  28.5  27.95  28.25   8419327.0   SCOM   \n",
       "71884  NSEKE:SCOM  28.50  28.5  28.05  28.50  40614269.0   SCOM   \n",
       "71885  NSEKE:SCOM  28.25  29.0  28.20  28.80   1740579.0   SCOM   \n",
       "\n",
       "        company_name           industry             datetime  \n",
       "71881  Safaricom Ltd  Telecommunication  2025-10-21 09:00:00  \n",
       "71882  Safaricom Ltd  Telecommunication  2025-10-22 09:00:00  \n",
       "71883  Safaricom Ltd  Telecommunication  2025-10-23 09:00:00  \n",
       "71884  Safaricom Ltd  Telecommunication  2025-10-24 09:00:00  \n",
       "71885  Safaricom Ltd  Telecommunication  2025-10-27 09:00:00  "
      ]
     },
     "execution_count": 67,
     "metadata": {},
     "output_type": "execute_result"
    }
   ],
   "source": [
    "# checking the last five rows\n",
    "print(\" Last 5 Rows:\")\n",
    "stock_df.tail()"
   ]
  },
  {
   "cell_type": "markdown",
   "id": "b2f90679",
   "metadata": {},
   "source": [
    "OBSERVATION \n",
    "\n",
    "The stock dataset is uniform from the start to the end."
   ]
  },
  {
   "cell_type": "code",
   "execution_count": 68,
   "id": "44abce7d",
   "metadata": {},
   "outputs": [
    {
     "name": "stdout",
     "output_type": "stream",
     "text": [
      "<class 'pandas.core.frame.DataFrame'>\n",
      "RangeIndex: 71886 entries, 0 to 71885\n",
      "Data columns (total 10 columns):\n",
      " #   Column        Non-Null Count  Dtype  \n",
      "---  ------        --------------  -----  \n",
      " 0   symbol        71886 non-null  object \n",
      " 1   open          71886 non-null  float64\n",
      " 2   high          71886 non-null  float64\n",
      " 3   low           71886 non-null  float64\n",
      " 4   close         71886 non-null  float64\n",
      " 5   volume        71886 non-null  float64\n",
      " 6   ticker        71886 non-null  object \n",
      " 7   company_name  71886 non-null  object \n",
      " 8   industry      71886 non-null  object \n",
      " 9   datetime      71886 non-null  object \n",
      "dtypes: float64(5), object(5)\n",
      "memory usage: 5.5+ MB\n"
     ]
    }
   ],
   "source": [
    "# checking the metadata \n",
    "stock_df.info()"
   ]
  },
  {
   "cell_type": "markdown",
   "id": "ab0bdf8e",
   "metadata": {},
   "source": [
    "OBSERVATION\n",
    " \n",
    "The stock dataset has five numerical columns and five categorical columns "
   ]
  },
  {
   "cell_type": "code",
   "execution_count": 69,
   "id": "710ed353",
   "metadata": {},
   "outputs": [
    {
     "name": "stdout",
     "output_type": "stream",
     "text": [
      "The stock dataset has71886 rows and 10 columns\n"
     ]
    }
   ],
   "source": [
    "# checking the shape of the dataset\n",
    "print(f\"The stock dataset has{stock_df.shape[0]} rows and {stock_df.shape[1]} columns\")"
   ]
  },
  {
   "cell_type": "code",
   "execution_count": 70,
   "id": "3a4455ba",
   "metadata": {},
   "outputs": [
    {
     "data": {
      "text/html": [
       "<div>\n",
       "<style scoped>\n",
       "    .dataframe tbody tr th:only-of-type {\n",
       "        vertical-align: middle;\n",
       "    }\n",
       "\n",
       "    .dataframe tbody tr th {\n",
       "        vertical-align: top;\n",
       "    }\n",
       "\n",
       "    .dataframe thead th {\n",
       "        text-align: right;\n",
       "    }\n",
       "</style>\n",
       "<table border=\"1\" class=\"dataframe\">\n",
       "  <thead>\n",
       "    <tr style=\"text-align: right;\">\n",
       "      <th></th>\n",
       "      <th>count</th>\n",
       "      <th>mean</th>\n",
       "      <th>std</th>\n",
       "      <th>min</th>\n",
       "      <th>25%</th>\n",
       "      <th>50%</th>\n",
       "      <th>75%</th>\n",
       "      <th>max</th>\n",
       "    </tr>\n",
       "  </thead>\n",
       "  <tbody>\n",
       "    <tr>\n",
       "      <th>open</th>\n",
       "      <td>71886.0</td>\n",
       "      <td>46.694471</td>\n",
       "      <td>8.779335e+01</td>\n",
       "      <td>0.16</td>\n",
       "      <td>3.3</td>\n",
       "      <td>13.50</td>\n",
       "      <td>38.000000</td>\n",
       "      <td>1200.0</td>\n",
       "    </tr>\n",
       "    <tr>\n",
       "      <th>high</th>\n",
       "      <td>71886.0</td>\n",
       "      <td>47.067277</td>\n",
       "      <td>8.828506e+01</td>\n",
       "      <td>0.17</td>\n",
       "      <td>3.4</td>\n",
       "      <td>13.60</td>\n",
       "      <td>38.450001</td>\n",
       "      <td>1200.0</td>\n",
       "    </tr>\n",
       "    <tr>\n",
       "      <th>low</th>\n",
       "      <td>71886.0</td>\n",
       "      <td>46.208636</td>\n",
       "      <td>8.716566e+01</td>\n",
       "      <td>0.16</td>\n",
       "      <td>3.2</td>\n",
       "      <td>13.15</td>\n",
       "      <td>37.500000</td>\n",
       "      <td>1200.0</td>\n",
       "    </tr>\n",
       "    <tr>\n",
       "      <th>close</th>\n",
       "      <td>71886.0</td>\n",
       "      <td>46.632117</td>\n",
       "      <td>8.771657e+01</td>\n",
       "      <td>0.16</td>\n",
       "      <td>3.3</td>\n",
       "      <td>13.50</td>\n",
       "      <td>38.000000</td>\n",
       "      <td>1200.0</td>\n",
       "    </tr>\n",
       "    <tr>\n",
       "      <th>volume</th>\n",
       "      <td>71886.0</td>\n",
       "      <td>329939.919900</td>\n",
       "      <td>2.097939e+06</td>\n",
       "      <td>0.00</td>\n",
       "      <td>1300.0</td>\n",
       "      <td>10300.00</td>\n",
       "      <td>76800.000000</td>\n",
       "      <td>208485900.0</td>\n",
       "    </tr>\n",
       "  </tbody>\n",
       "</table>\n",
       "</div>"
      ],
      "text/plain": [
       "          count           mean           std   min     25%       50%  \\\n",
       "open    71886.0      46.694471  8.779335e+01  0.16     3.3     13.50   \n",
       "high    71886.0      47.067277  8.828506e+01  0.17     3.4     13.60   \n",
       "low     71886.0      46.208636  8.716566e+01  0.16     3.2     13.15   \n",
       "close   71886.0      46.632117  8.771657e+01  0.16     3.3     13.50   \n",
       "volume  71886.0  329939.919900  2.097939e+06  0.00  1300.0  10300.00   \n",
       "\n",
       "                 75%          max  \n",
       "open       38.000000       1200.0  \n",
       "high       38.450001       1200.0  \n",
       "low        37.500000       1200.0  \n",
       "close      38.000000       1200.0  \n",
       "volume  76800.000000  208485900.0  "
      ]
     },
     "execution_count": 70,
     "metadata": {},
     "output_type": "execute_result"
    }
   ],
   "source": [
    "# statistical summary of the numerical column \n",
    "stock_df.describe().T\n"
   ]
  },
  {
   "cell_type": "code",
   "execution_count": 71,
   "id": "424aab6a",
   "metadata": {},
   "outputs": [
    {
     "data": {
      "text/html": [
       "<div>\n",
       "<style scoped>\n",
       "    .dataframe tbody tr th:only-of-type {\n",
       "        vertical-align: middle;\n",
       "    }\n",
       "\n",
       "    .dataframe tbody tr th {\n",
       "        vertical-align: top;\n",
       "    }\n",
       "\n",
       "    .dataframe thead th {\n",
       "        text-align: right;\n",
       "    }\n",
       "</style>\n",
       "<table border=\"1\" class=\"dataframe\">\n",
       "  <thead>\n",
       "    <tr style=\"text-align: right;\">\n",
       "      <th></th>\n",
       "      <th>count</th>\n",
       "      <th>unique</th>\n",
       "      <th>top</th>\n",
       "      <th>freq</th>\n",
       "    </tr>\n",
       "  </thead>\n",
       "  <tbody>\n",
       "    <tr>\n",
       "      <th>symbol</th>\n",
       "      <td>71886</td>\n",
       "      <td>60</td>\n",
       "      <td>NSEKE:EGAD</td>\n",
       "      <td>1300</td>\n",
       "    </tr>\n",
       "    <tr>\n",
       "      <th>ticker</th>\n",
       "      <td>71886</td>\n",
       "      <td>60</td>\n",
       "      <td>EGAD</td>\n",
       "      <td>1300</td>\n",
       "    </tr>\n",
       "    <tr>\n",
       "      <th>company_name</th>\n",
       "      <td>71886</td>\n",
       "      <td>60</td>\n",
       "      <td>Eaagads Ltd</td>\n",
       "      <td>1300</td>\n",
       "    </tr>\n",
       "    <tr>\n",
       "      <th>industry</th>\n",
       "      <td>71886</td>\n",
       "      <td>11</td>\n",
       "      <td>Commercial</td>\n",
       "      <td>14649</td>\n",
       "    </tr>\n",
       "    <tr>\n",
       "      <th>datetime</th>\n",
       "      <td>71886</td>\n",
       "      <td>3326</td>\n",
       "      <td>2025-02-19 09:00:00</td>\n",
       "      <td>55</td>\n",
       "    </tr>\n",
       "  </tbody>\n",
       "</table>\n",
       "</div>"
      ],
      "text/plain": [
       "              count unique                  top   freq\n",
       "symbol        71886     60           NSEKE:EGAD   1300\n",
       "ticker        71886     60                 EGAD   1300\n",
       "company_name  71886     60          Eaagads Ltd   1300\n",
       "industry      71886     11           Commercial  14649\n",
       "datetime      71886   3326  2025-02-19 09:00:00     55"
      ]
     },
     "execution_count": 71,
     "metadata": {},
     "output_type": "execute_result"
    }
   ],
   "source": [
    "#statistical summary of categorical colums\n",
    "stock_df.describe(include=\"object\").T\n"
   ]
  },
  {
   "cell_type": "code",
   "execution_count": 72,
   "id": "073fa0bb",
   "metadata": {},
   "outputs": [
    {
     "name": "stdout",
     "output_type": "stream",
     "text": [
      "The stock dataset has 0 null values.\n"
     ]
    }
   ],
   "source": [
    "#Checking the null values\n",
    "print(f\"The stock dataset has {stock_df.isna().sum().sum()} null values.\")"
   ]
  },
  {
   "cell_type": "code",
   "execution_count": 73,
   "id": "ae8fc838",
   "metadata": {},
   "outputs": [
    {
     "name": "stdout",
     "output_type": "stream",
     "text": [
      "The stock dataset has 0 duplicates.\n"
     ]
    }
   ],
   "source": [
    "#checking the duplicates \n",
    "print(f\"The stock dataset has {stock_df.duplicated().sum()} duplicates.\")"
   ]
  },
  {
   "cell_type": "code",
   "execution_count": 74,
   "id": "02e631fc",
   "metadata": {},
   "outputs": [
    {
     "data": {
      "text/plain": [
       "<Axes: >"
      ]
     },
     "execution_count": 74,
     "metadata": {},
     "output_type": "execute_result"
    },
    {
     "data": {
      "image/png": "[encoded data removed]",
      "text/plain": [
       "<Figure size 640x480 with 1 Axes>"
      ]
     },
     "metadata": {},
     "output_type": "display_data"
    }
   ],
   "source": [
    "#checking for outliers\n",
    "sns.boxplot(stock_df)"
   ]
  },
  {
   "cell_type": "code",
   "execution_count": null,
   "id": "e71cae57",
   "metadata": {},
   "outputs": [],
   "source": [
    "# Step 1: Calculate IQR bounds\n",
    "Q1 = stock_df['volume'].quantile(0.25)\n",
    "Q3 = stock_df['volume'].quantile(0.75)\n",
    "IQR = Q3 - Q1\n",
    "lower_bound = Q1 - 1.5 * IQR\n",
    "upper_bound = Q3 + 1.5 * IQR\n",
    "\n",
    "# Step 2: Replace outliers with median\n",
    "median = stock_df['volume'].median()\n",
    "stock_df.loc[(stock_df['volume'] < lower_bound) | (stock_df['volume'] > upper_bound), 'volume'] = median"
   ]
  },
  {
   "cell_type": "code",
   "execution_count": 76,
   "id": "177c2616",
   "metadata": {},
   "outputs": [
    {
     "data": {
      "text/plain": [
       "<Axes: >"
      ]
     },
     "execution_count": 76,
     "metadata": {},
     "output_type": "execute_result"
    },
    {
     "data": {
      "image/png": "[encoded data removed]",
      "text/plain": [
       "<Figure size 640x480 with 1 Axes>"
      ]
     },
     "metadata": {},
     "output_type": "display_data"
    }
   ],
   "source": [
    "sns.boxplot(stock_df)"
   ]
  },
  {
   "cell_type": "markdown",
   "id": "96e16301",
   "metadata": {},
   "source": [
    "Observation\n",
    "\n",
    "The volume column has a significant number of outliers represented by the individual points above the upper whisker of the box plot.This clearly illustrates there were many instances of high trading volume compared to the typical range."
   ]
  },
  {
   "cell_type": "markdown",
   "id": "9584fa6e",
   "metadata": {},
   "source": [
    "DATA PREPARATION \n",
    "\n",
    "Data Cleaning"
   ]
  },
  {
   "cell_type": "code",
   "execution_count": null,
   "id": "f27eee7f",
   "metadata": {},
   "outputs": [],
   "source": []
  }
 ],
 "metadata": {
  "kernelspec": {
   "display_name": "Python 3",
   "language": "python",
   "name": "python3"
  },
  "language_info": {
   "codemirror_mode": {
    "name": "ipython",
    "version": 3
   },
   "file_extension": ".py",
   "mimetype": "text/x-python",
   "name": "python",
   "nbconvert_exporter": "python",
   "pygments_lexer": "ipython3",
   "version": "3.11.9"
  }
 },
 "nbformat": 4,
 "nbformat_minor": 5
}
